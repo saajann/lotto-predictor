{
 "cells": [
  {
   "cell_type": "code",
   "execution_count": 1,
   "metadata": {},
   "outputs": [],
   "source": [
    "import pandas as pd"
   ]
  },
  {
   "cell_type": "code",
   "execution_count": 2,
   "metadata": {},
   "outputs": [],
   "source": [
    "extractions = pd.read_csv('../data/processed/lotto_historical.csv')"
   ]
  },
  {
   "cell_type": "code",
   "execution_count": 3,
   "metadata": {},
   "outputs": [
    {
     "name": "stdout",
     "output_type": "stream",
     "text": [
      "<class 'pandas.core.frame.DataFrame'>\n",
      "RangeIndex: 39417 entries, 0 to 39416\n",
      "Data columns (total 7 columns):\n",
      " #   Column  Non-Null Count  Dtype \n",
      "---  ------  --------------  ----- \n",
      " 0   date    39417 non-null  object\n",
      " 1   wheel   39417 non-null  object\n",
      " 2   n1      39417 non-null  int64 \n",
      " 3   n2      39417 non-null  int64 \n",
      " 4   n3      39417 non-null  int64 \n",
      " 5   n4      39417 non-null  int64 \n",
      " 6   n5      39417 non-null  int64 \n",
      "dtypes: int64(5), object(2)\n",
      "memory usage: 2.1+ MB\n"
     ]
    }
   ],
   "source": [
    "extractions.info()"
   ]
  },
  {
   "cell_type": "code",
   "execution_count": 4,
   "metadata": {},
   "outputs": [
    {
     "data": {
      "text/html": [
       "<div>\n",
       "<style scoped>\n",
       "    .dataframe tbody tr th:only-of-type {\n",
       "        vertical-align: middle;\n",
       "    }\n",
       "\n",
       "    .dataframe tbody tr th {\n",
       "        vertical-align: top;\n",
       "    }\n",
       "\n",
       "    .dataframe thead th {\n",
       "        text-align: right;\n",
       "    }\n",
       "</style>\n",
       "<table border=\"1\" class=\"dataframe\">\n",
       "  <thead>\n",
       "    <tr style=\"text-align: right;\">\n",
       "      <th></th>\n",
       "      <th>date</th>\n",
       "      <th>wheel</th>\n",
       "      <th>n1</th>\n",
       "      <th>n2</th>\n",
       "      <th>n3</th>\n",
       "      <th>n4</th>\n",
       "      <th>n5</th>\n",
       "    </tr>\n",
       "  </thead>\n",
       "  <tbody>\n",
       "    <tr>\n",
       "      <th>39412</th>\n",
       "      <td>2025/02/28</td>\n",
       "      <td>PALERMO</td>\n",
       "      <td>30</td>\n",
       "      <td>59</td>\n",
       "      <td>72</td>\n",
       "      <td>83</td>\n",
       "      <td>40</td>\n",
       "    </tr>\n",
       "    <tr>\n",
       "      <th>39413</th>\n",
       "      <td>2025/02/28</td>\n",
       "      <td>RM</td>\n",
       "      <td>58</td>\n",
       "      <td>21</td>\n",
       "      <td>75</td>\n",
       "      <td>70</td>\n",
       "      <td>55</td>\n",
       "    </tr>\n",
       "    <tr>\n",
       "      <th>39414</th>\n",
       "      <td>2025/02/28</td>\n",
       "      <td>NAZIONALE</td>\n",
       "      <td>14</td>\n",
       "      <td>78</td>\n",
       "      <td>18</td>\n",
       "      <td>40</td>\n",
       "      <td>8</td>\n",
       "    </tr>\n",
       "    <tr>\n",
       "      <th>39415</th>\n",
       "      <td>2025/02/28</td>\n",
       "      <td>TORINO</td>\n",
       "      <td>42</td>\n",
       "      <td>47</td>\n",
       "      <td>84</td>\n",
       "      <td>72</td>\n",
       "      <td>67</td>\n",
       "    </tr>\n",
       "    <tr>\n",
       "      <th>39416</th>\n",
       "      <td>2025/02/28</td>\n",
       "      <td>VENEZIA</td>\n",
       "      <td>64</td>\n",
       "      <td>57</td>\n",
       "      <td>33</td>\n",
       "      <td>84</td>\n",
       "      <td>19</td>\n",
       "    </tr>\n",
       "  </tbody>\n",
       "</table>\n",
       "</div>"
      ],
      "text/plain": [
       "             date      wheel  n1  n2  n3  n4  n5\n",
       "39412  2025/02/28    PALERMO  30  59  72  83  40\n",
       "39413  2025/02/28         RM  58  21  75  70  55\n",
       "39414  2025/02/28  NAZIONALE  14  78  18  40   8\n",
       "39415  2025/02/28     TORINO  42  47  84  72  67\n",
       "39416  2025/02/28    VENEZIA  64  57  33  84  19"
      ]
     },
     "execution_count": 4,
     "metadata": {},
     "output_type": "execute_result"
    }
   ],
   "source": [
    "extractions.tail()"
   ]
  },
  {
   "cell_type": "code",
   "execution_count": 5,
   "metadata": {},
   "outputs": [],
   "source": [
    "extractions['year'] = extractions['date'].apply(lambda x: int(x.split('/')[0]))\n",
    "extractions['month'] = extractions['date'].apply(lambda x: int(x.split('/')[1]))\n",
    "extractions['day'] = extractions['date'].apply(lambda x: int(x.split('/')[2]))\n",
    "extractions.drop('date', axis=1, inplace=True)\n"
   ]
  },
  {
   "cell_type": "code",
   "execution_count": 6,
   "metadata": {},
   "outputs": [
    {
     "data": {
      "text/html": [
       "<div>\n",
       "<style scoped>\n",
       "    .dataframe tbody tr th:only-of-type {\n",
       "        vertical-align: middle;\n",
       "    }\n",
       "\n",
       "    .dataframe tbody tr th {\n",
       "        vertical-align: top;\n",
       "    }\n",
       "\n",
       "    .dataframe thead th {\n",
       "        text-align: right;\n",
       "    }\n",
       "</style>\n",
       "<table border=\"1\" class=\"dataframe\">\n",
       "  <thead>\n",
       "    <tr style=\"text-align: right;\">\n",
       "      <th></th>\n",
       "      <th>wheel</th>\n",
       "      <th>n1</th>\n",
       "      <th>n2</th>\n",
       "      <th>n3</th>\n",
       "      <th>n4</th>\n",
       "      <th>n5</th>\n",
       "      <th>year</th>\n",
       "      <th>month</th>\n",
       "      <th>day</th>\n",
       "    </tr>\n",
       "  </thead>\n",
       "  <tbody>\n",
       "    <tr>\n",
       "      <th>39412</th>\n",
       "      <td>PALERMO</td>\n",
       "      <td>30</td>\n",
       "      <td>59</td>\n",
       "      <td>72</td>\n",
       "      <td>83</td>\n",
       "      <td>40</td>\n",
       "      <td>2025</td>\n",
       "      <td>2</td>\n",
       "      <td>28</td>\n",
       "    </tr>\n",
       "    <tr>\n",
       "      <th>39413</th>\n",
       "      <td>RM</td>\n",
       "      <td>58</td>\n",
       "      <td>21</td>\n",
       "      <td>75</td>\n",
       "      <td>70</td>\n",
       "      <td>55</td>\n",
       "      <td>2025</td>\n",
       "      <td>2</td>\n",
       "      <td>28</td>\n",
       "    </tr>\n",
       "    <tr>\n",
       "      <th>39414</th>\n",
       "      <td>NAZIONALE</td>\n",
       "      <td>14</td>\n",
       "      <td>78</td>\n",
       "      <td>18</td>\n",
       "      <td>40</td>\n",
       "      <td>8</td>\n",
       "      <td>2025</td>\n",
       "      <td>2</td>\n",
       "      <td>28</td>\n",
       "    </tr>\n",
       "    <tr>\n",
       "      <th>39415</th>\n",
       "      <td>TORINO</td>\n",
       "      <td>42</td>\n",
       "      <td>47</td>\n",
       "      <td>84</td>\n",
       "      <td>72</td>\n",
       "      <td>67</td>\n",
       "      <td>2025</td>\n",
       "      <td>2</td>\n",
       "      <td>28</td>\n",
       "    </tr>\n",
       "    <tr>\n",
       "      <th>39416</th>\n",
       "      <td>VENEZIA</td>\n",
       "      <td>64</td>\n",
       "      <td>57</td>\n",
       "      <td>33</td>\n",
       "      <td>84</td>\n",
       "      <td>19</td>\n",
       "      <td>2025</td>\n",
       "      <td>2</td>\n",
       "      <td>28</td>\n",
       "    </tr>\n",
       "  </tbody>\n",
       "</table>\n",
       "</div>"
      ],
      "text/plain": [
       "           wheel  n1  n2  n3  n4  n5  year  month  day\n",
       "39412    PALERMO  30  59  72  83  40  2025      2   28\n",
       "39413         RM  58  21  75  70  55  2025      2   28\n",
       "39414  NAZIONALE  14  78  18  40   8  2025      2   28\n",
       "39415     TORINO  42  47  84  72  67  2025      2   28\n",
       "39416    VENEZIA  64  57  33  84  19  2025      2   28"
      ]
     },
     "execution_count": 6,
     "metadata": {},
     "output_type": "execute_result"
    }
   ],
   "source": [
    "extractions.tail()"
   ]
  },
  {
   "cell_type": "code",
   "execution_count": 7,
   "metadata": {},
   "outputs": [
    {
     "name": "stderr",
     "output_type": "stream",
     "text": [
      "/var/folders/8h/b6sjd9l522v8k4p6t77m8fpm0000gn/T/ipykernel_9277/3777930953.py:9: DeprecationWarning: DataFrameGroupBy.apply operated on the grouping columns. This behavior is deprecated, and in a future version of pandas the grouping columns will be excluded from the operation. Either pass `include_groups=False` to exclude the groupings or explicitly select the grouping columns after groupby to silence this warning.\n",
      "  most_frequent = frequencies.groupby('wheel').apply(lambda x: x.nlargest(10, 'frequency')).reset_index(drop=True)\n",
      "/var/folders/8h/b6sjd9l522v8k4p6t77m8fpm0000gn/T/ipykernel_9277/3777930953.py:11: DeprecationWarning: DataFrameGroupBy.apply operated on the grouping columns. This behavior is deprecated, and in a future version of pandas the grouping columns will be excluded from the operation. Either pass `include_groups=False` to exclude the groupings or explicitly select the grouping columns after groupby to silence this warning.\n",
      "  least_frequent = frequencies.groupby('wheel').apply(lambda x: x.nsmallest(10, 'frequency')).reset_index(drop=True)\n"
     ]
    }
   ],
   "source": [
    "last_100_extractions = extractions.groupby('wheel').tail(100)\n",
    "\n",
    "frequencies = last_100_extractions.melt(id_vars=['wheel'], value_vars=['n1', 'n2', 'n3', 'n4', 'n5'], \n",
    "                                        var_name='num_pos', value_name='number') \\\n",
    "                                  .groupby(['wheel', 'number']) \\\n",
    "                                  .size() \\\n",
    "                                  .reset_index(name='frequency')\n",
    "\n",
    "most_frequent = frequencies.groupby('wheel').apply(lambda x: x.nlargest(10, 'frequency')).reset_index(drop=True)\n",
    "\n",
    "least_frequent = frequencies.groupby('wheel').apply(lambda x: x.nsmallest(10, 'frequency')).reset_index(drop=True)\n",
    "\n",
    "most_frequent.to_csv('../data/historical_stats/most_frequent.csv', index=False)\n",
    "\n",
    "least_frequent.to_csv('../data/historical_stats/least_frequent.csv', index=False)\n",
    "\n",
    "frequencies.to_csv('../data/historical_stats/numbers_frequency.csv', index=False)\n"
   ]
  }
 ],
 "metadata": {
  "kernelspec": {
   "display_name": "Python 3",
   "language": "python",
   "name": "python3"
  },
  "language_info": {
   "codemirror_mode": {
    "name": "ipython",
    "version": 3
   },
   "file_extension": ".py",
   "mimetype": "text/x-python",
   "name": "python",
   "nbconvert_exporter": "python",
   "pygments_lexer": "ipython3",
   "version": "3.12.6"
  }
 },
 "nbformat": 4,
 "nbformat_minor": 2
}
